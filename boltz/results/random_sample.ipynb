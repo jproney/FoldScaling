{
 "cells": [
  {
   "cell_type": "code",
   "execution_count": null,
   "metadata": {
    "vscode": {
     "languageId": "plaintext"
    }
   },
   "outputs": [],
   "source": [
    "import os\n",
    "import subprocess\n",
    "import re\n",
    "from glob import glob\n",
    "import matplotlib.pyplot as plt\n",
    "import seaborn as sns\n",
    "from tqdm import tqdm\n",
    "\n",
    "# Directory containing FASTA files\n",
    "fasta_dir = \"/data/rbg/users/yxie25/FoldScaling/data/skempi/FASTA\"\n",
    "\n",
    "# Command template\n",
    "boltz_cmd_template = \"boltz random-sampling {} --use_msa_server\"\n",
    "\n",
    "# Lists to collect scores\n",
    "best_scores = []\n",
    "worst_scores = []\n",
    "score_diffs = []\n",
    "\n",
    "# Get all fasta files\n",
    "fasta_files = glob(os.path.join(fasta_dir, \"*.fasta\"))\n"
   ]
  }
 ],
 "metadata": {
  "language_info": {
   "name": "python"
  }
 },
 "nbformat": 4,
 "nbformat_minor": 2
}

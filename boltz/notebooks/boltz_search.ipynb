{
 "cells": [
  {
   "cell_type": "code",
   "execution_count": 1,
   "id": "2edafafc-7fae-41dc-b855-89ff23191f18",
   "metadata": {},
   "outputs": [],
   "source": [
    "# 1MBA (myoglobin)\n",
    "#seq = \"SLSAAEADLAGKSWAPVFANKNANGLDFLVALFEKFPDSANFFADFKGKSVADIKASPKLRDVSSRIFTRLNEFVNNAANAGKMSAMLSQFAKEHVGFGVGSAQFENVRSMFPGFVASVAAPPAGADAAWTKLFGLIIDALKAAGA\"\n",
    "\n",
    "# 1MJC\n",
    "seq = \"SGKMTGIVKWFNADKGFGFITPDDGSKDVFVHFSAIQNDGYKSLDEGQKVSFTIESGAKGPAAGNVTSL\"\n",
    "\n",
    "with open(\"ss.a3m\", \"w\") as f:\n",
    "    f.write(f\">test\\n{seq}\\n\")\n",
    "\n",
    "header = f\"test|protein|ss.a3m\"\n",
    "\n",
    "with open(\"ss.fasta\", \"w\") as f:\n",
    "    f.write(f\">{header}\\n{seq}\\n\")\n",
    "\n"
   ]
  },
  {
   "cell_type": "code",
   "execution_count": 2,
   "id": "84f08ba3-13c9-42c2-b9fa-392d30665e54",
   "metadata": {},
   "outputs": [
    {
     "name": "stdout",
     "output_type": "stream",
     "text": [
      "Checking input data.\n",
      "Found existing predictions, will override.\n",
      "Running predictions for 1 structure\n",
      "Processing input data.\n",
      "Found a manifest file at output directory: boltz_results_ss\n",
      "All examples in data are processed. Updating the manifest\n"
     ]
    },
    {
     "name": "stderr",
     "output_type": "stream",
     "text": [
      "/home/gridsan/jroney/.conda/envs/boltz1/lib/python3.11/site-packages/lightning_fabric/plugins/environments/slurm.py:204: The `srun` command is available on your system but is not used. HINT: If your intention is to run Lightning on SLURM, prepend your python command with `srun` like so: srun python3.11 /home/gridsan/jroney/solab/af3/FoldScaling/boltz ...\n",
      "GPU available: True (cuda), used: True\n",
      "TPU available: False, using: 0 TPU cores\n",
      "HPU available: False, using: 0 HPUs\n"
     ]
    },
    {
     "name": "stdout",
     "output_type": "stream",
     "text": [
      "Skipping prediction step as requested.\n"
     ]
    },
    {
     "name": "stderr",
     "output_type": "stream",
     "text": [
      "/home/gridsan/jroney/.conda/envs/boltz1/lib/python3.11/site-packages/pytorch_lightning/trainer/connectors/logger_connector/logger_connector.py:75: Starting from v1.9.0, `tensorboardX` has been removed as a dependency of the `pytorch_lightning` package, due to potential conflicts with other packages in the ML ecosystem. For this reason, `logger=True` will use `CSVLogger` as the default logger, unless the `tensorboard` or `tensorboardX` packages are found. Please `pip install lightning[extra]` or one of them to enable TensorBoard support by default\n"
     ]
    }
   ],
   "source": [
    "num_samples = 24\n",
    "%run /home/gridsan/jroney/solab/af3/FoldScaling/boltz/src/boltz/main.py predict ss.fasta --diffusion_samples {num_samples} --override --skip_pred"
   ]
  },
  {
   "cell_type": "code",
   "execution_count": 3,
   "id": "0478ca4a-58d6-4dcf-b8c4-2c11aa87f147",
   "metadata": {},
   "outputs": [],
   "source": [
    "processed = _boltz_inputs\n",
    "data_module = BoltzInferenceDataModule(\n",
    "    manifest=processed.manifest,\n",
    "    target_dir=processed.targets_dir,\n",
    "    msa_dir=processed.msa_dir,\n",
    "    num_workers=1,\n",
    "    constraints_dir=processed.constraints_dir,\n",
    ")\n",
    "\n",
    "batch = next(iter(data_module.predict_dataloader()))\n",
    "batch = {k:v.cuda() if torch.is_tensor(v) else v for k,v in batch.items()}\n",
    "model = _boltz_module.cuda()"
   ]
  },
  {
   "cell_type": "code",
   "execution_count": 4,
   "id": "a0427122-e55f-40bb-a68a-ac381f4c1bf8",
   "metadata": {},
   "outputs": [],
   "source": [
    "trunk_out = model(\n",
    "        batch,\n",
    "        recycling_steps=model.predict_args[\"recycling_steps\"],\n",
    "        num_sampling_steps=model.predict_args[\"sampling_steps\"],\n",
    "        diffusion_samples=num_samples,\n",
    "        return_final_reps=True,\n",
    "        skip_diffusion=True)"
   ]
  },
  {
   "cell_type": "code",
   "execution_count": 44,
   "id": "8e655a7e-8929-4e8c-a0af-2bc8da083d8f",
   "metadata": {},
   "outputs": [],
   "source": [
    "diff_outputs = model.structure_module.sample(\n",
    "                    s_trunk=trunk_out['s_trunk'],\n",
    "                    z_trunk=trunk_out['z_trunk'],\n",
    "                    s_inputs=trunk_out['s_inputs'],\n",
    "                    feats=trunk_out['feats'],\n",
    "                    relative_position_encoding=trunk_out['relative_position_encoding'],\n",
    "                    num_sampling_steps=model.predict_args[\"sampling_steps\"],\n",
    "                    atom_mask=trunk_out['feats'][\"atom_pad_mask\"],\n",
    "                    multiplicity=num_samples,\n",
    "                    train_accumulate_token_repr=model.training,\n",
    "                    steering_args=model.steering_args,\n",
    "                    custom_noise=None,\n",
    "                )"
   ]
  },
  {
   "cell_type": "code",
   "execution_count": 45,
   "id": "0f78a351-ced4-4bbe-b8f6-2432384d4d7a",
   "metadata": {},
   "outputs": [],
   "source": [
    "model.confidence_module.use_s_diffusion=False\n",
    "conf_out = model.confidence_module(\n",
    "        s_inputs=trunk_out['s_trunk'],\n",
    "        s=trunk_out['s_trunk'],\n",
    "        z=trunk_out['z_trunk'],\n",
    "        s_diffusion=None,\n",
    "        x_pred=diff_outputs['sample_atom_coords'],\n",
    "        feats=trunk_out['feats'],\n",
    "        pred_distogram_logits=trunk_out[\"pdistogram\"],\n",
    "        multiplicity=model.predict_args[\"diffusion_samples\"],\n",
    "        run_sequentially=False\n",
    "    )"
   ]
  },
  {
   "cell_type": "code",
   "execution_count": 46,
   "id": "d7b3d251-b437-4f22-915b-179285739c14",
   "metadata": {},
   "outputs": [
    {
     "data": {
      "text/plain": [
       "(array([1., 0., 2., 3., 6., 7., 0., 2., 2., 1.]),\n",
       " array([0.44282871, 0.44850871, 0.4541887 , 0.4598687 , 0.46554869,\n",
       "        0.47122866, 0.47690865, 0.48258865, 0.48826864, 0.49394864,\n",
       "        0.49962863]),\n",
       " <BarContainer object of 10 artists>)"
      ]
     },
     "execution_count": 46,
     "metadata": {},
     "output_type": "execute_result"
    },
    {
     "data": {
      "image/png": "[encoded data removed]",
      "text/plain": [
       "<Figure size 640x480 with 1 Axes>"
      ]
     },
     "metadata": {},
     "output_type": "display_data"
    }
   ],
   "source": [
    "import matplotlib.pyplot as plt\n",
    "\n",
    "conf_score = (4*conf_out['complex_plddt'] + conf_out['ptm']).cpu().numpy() /5\n",
    "plt.hist(conf_score)"
   ]
  },
  {
   "cell_type": "code",
   "execution_count": 47,
   "id": "0fbfee40-816e-4326-a778-1dde8ce15efe",
   "metadata": {},
   "outputs": [],
   "source": [
    "from boltz.model.potentials.potentials import Potential\n",
    "\n",
    "\"\"\"\n",
    "Class for FK guidance with confidence module as guiding potential\n",
    "\"\"\"\n",
    "\n",
    "model.steering_args['num_particles']=16\n",
    "model.steering_args['fk_lambda']=4\n",
    "model.steering_args['fk_resampling_interval']=3\n",
    "model.steering_args['guidance_update']=False\n",
    "class BoltzConfidencePotential(Potential):\n",
    "\n",
    "    def compute_args(self, feats, params):\n",
    "        return None, (), None # dummy return vals\n",
    "    \n",
    "    def compute_variable(self, coords, index, compute_gradient=False):\n",
    "\n",
    "            \n",
    "        conf_out = model.confidence_module(\n",
    "                s_inputs=trunk_out['s_trunk'],\n",
    "                s=trunk_out['s_trunk'],\n",
    "                z=trunk_out['z_trunk'],\n",
    "                s_diffusion=None,\n",
    "                x_pred=coords,\n",
    "                feats=trunk_out['feats'],\n",
    "                pred_distogram_logits=trunk_out[\"pdistogram\"],\n",
    "                multiplicity=model.predict_args[\"diffusion_samples\"] * model.steering_args['num_particles'],\n",
    "                run_sequentially=False\n",
    "            )\n",
    "\n",
    "        conf_score = (4*conf_out['complex_plddt'] + conf_out['ptm']) / 5\n",
    "\n",
    "        if not compute_gradient:\n",
    "            return conf_score\n",
    "\n",
    "        return conf_score, torch.zeros_like(coords) # we can't get a gradient because the prediction is turned into a binned dgram\n",
    "        \n",
    "    def compute_function(self, value, compute_derivative=False):\n",
    "        nrg = -torch.log(value)\n",
    "        if not compute_derivative:\n",
    "            return nrg\n",
    "        \n",
    "        return nrg, -1/nrg\n",
    "\n",
    "        \n",
    "        "
   ]
  },
  {
   "cell_type": "code",
   "execution_count": 20,
   "id": "6040c9ea-0f30-4511-967d-8b2262c5b9d5",
   "metadata": {},
   "outputs": [],
   "source": [
    "pot = BoltzConfidencePotential(parameters={\n",
    "                'guidance_interval': 5,\n",
    "                'guidance_weight': 0.00,\n",
    "                'resampling_weight': 3.0,\n",
    "            })"
   ]
  },
  {
   "cell_type": "code",
   "execution_count": 21,
   "id": "4a07f977-4de5-459e-845e-3b8be67cc51b",
   "metadata": {},
   "outputs": [
    {
     "data": {
      "text/plain": [
       "{'fk_steering': True,\n",
       " 'num_particles': 16,\n",
       " 'fk_lambda': 4,\n",
       " 'fk_resampling_interval': 3,\n",
       " 'guidance_update': False,\n",
       " 'num_gd_steps': 0}"
      ]
     },
     "execution_count": 21,
     "metadata": {},
     "output_type": "execute_result"
    }
   ],
   "source": [
    "model.steering_args"
   ]
  },
  {
   "cell_type": "code",
   "execution_count": null,
   "id": "c0d8f616-9f4f-4c94-b714-bfbc5105cfbb",
   "metadata": {},
   "outputs": [],
   "source": [
    "diff_outputs_guided = model.structure_module.sample(\n",
    "                        s_trunk=trunk_out['s_trunk'],\n",
    "                        z_trunk=trunk_out['z_trunk'],\n",
    "                        s_inputs=trunk_out['s_inputs'],\n",
    "                        feats=trunk_out['feats'],\n",
    "                        relative_position_encoding=trunk_out['relative_position_encoding'],\n",
    "                        num_sampling_steps=model.predict_args[\"sampling_steps\"],\n",
    "                        atom_mask=trunk_out['feats'][\"atom_pad_mask\"],\n",
    "                        multiplicity=num_samples,\n",
    "                        train_accumulate_token_repr=model.training,\n",
    "                        steering_args=model.steering_args,\n",
    "                        custom_noise=None,\n",
    "                        custom_potentials=[pot]\n",
    "                    )"
   ]
  },
  {
   "cell_type": "code",
   "execution_count": 40,
   "id": "fc6b604f-9aa4-45f4-9e2e-1b9620ec646b",
   "metadata": {},
   "outputs": [],
   "source": [
    "conf_out_guided = model.confidence_module(\n",
    "        s_inputs=trunk_out['s_trunk'],\n",
    "        s=trunk_out['s_trunk'],\n",
    "        z=trunk_out['z_trunk'],\n",
    "        s_diffusion=None,\n",
    "        x_pred=diff_outputs_guided['sample_atom_coords'],\n",
    "        feats=trunk_out['feats'],\n",
    "        pred_distogram_logits=trunk_out[\"pdistogram\"],\n",
    "        multiplicity=model.predict_args[\"diffusion_samples\"],\n",
    "        run_sequentially=False\n",
    "    )"
   ]
  },
  {
   "cell_type": "code",
   "execution_count": 48,
   "id": "c5cf8c7f-3275-4269-a43d-c4864207d984",
   "metadata": {},
   "outputs": [
    {
     "data": {
      "text/plain": [
       "(array([2., 1., 1., 4., 5., 3., 3., 1., 2., 2.]),\n",
       " array([0.46330982, 0.46673211, 0.4701544 , 0.47357669, 0.47699898,\n",
       "        0.4804213 , 0.48384359, 0.48726588, 0.49068817, 0.49411047,\n",
       "        0.49753276]),\n",
       " <BarContainer object of 10 artists>)"
      ]
     },
     "execution_count": 48,
     "metadata": {},
     "output_type": "execute_result"
    },
    {
     "data": {
      "image/png": "[encoded data removed]",
      "text/plain": [
       "<Figure size 640x480 with 1 Axes>"
      ]
     },
     "metadata": {},
     "output_type": "display_data"
    }
   ],
   "source": [
    "conf_score = (4*conf_out_guided['complex_plddt'] + conf_out_guided['ptm']).cpu().numpy() /5\n",
    "plt.hist(conf_score)"
   ]
  },
  {
   "cell_type": "code",
   "execution_count": 49,
   "id": "619789e6-2e77-4ca2-b60a-5f90b4d9f919",
   "metadata": {},
   "outputs": [
    {
     "data": {
      "text/plain": [
       "(array([1., 0., 2., 3., 6., 7., 0., 2., 2., 1.]),\n",
       " array([0.44282871, 0.44850871, 0.4541887 , 0.4598687 , 0.46554869,\n",
       "        0.47122866, 0.47690865, 0.48258865, 0.48826864, 0.49394864,\n",
       "        0.49962863]),\n",
       " <BarContainer object of 10 artists>)"
      ]
     },
     "execution_count": 49,
     "metadata": {},
     "output_type": "execute_result"
    },
    {
     "data": {
      "image/png": "[encoded data removed]",
      "text/plain": [
       "<Figure size 640x480 with 1 Axes>"
      ]
     },
     "metadata": {},
     "output_type": "display_data"
    }
   ],
   "source": [
    "conf_score = (4*conf_out['complex_plddt'] + conf_out['ptm']).cpu().numpy() / 5\n",
    "plt.hist(conf_score)"
   ]
  },
  {
   "cell_type": "code",
   "execution_count": 17,
   "id": "89935588-b2f0-4467-a100-d7cd268ccd30",
   "metadata": {},
   "outputs": [
    {
     "data": {
      "text/plain": [
       "tensor([0.5408, 0.5273, 0.5710, 0.5550, 0.5211, 0.5555, 0.5531, 0.5369, 0.5160,\n",
       "        0.5246, 0.5441, 0.5286, 0.5452, 0.5179, 0.5223, 0.5540, 0.5358, 0.5166,\n",
       "        0.5417, 0.5353, 0.5329, 0.5368, 0.5208, 0.5147], device='cuda:0')"
      ]
     },
     "execution_count": 17,
     "metadata": {},
     "output_type": "execute_result"
    }
   ],
   "source": [
    "conf_out['complex_plddt']"
   ]
  },
  {
   "cell_type": "code",
   "execution_count": 18,
   "id": "99f128d4-4eef-43c2-a32c-f35ee289dfb0",
   "metadata": {},
   "outputs": [
    {
     "data": {
      "text/plain": [
       "tensor([0.5490, 0.5291, 0.5304, 0.5286, 0.5210, 0.5320, 0.5265, 0.5402, 0.5666,\n",
       "        0.5222, 0.5391, 0.5153, 0.5550, 0.5223, 0.5409, 0.5421, 0.5403, 0.5612,\n",
       "        0.5190, 0.5275, 0.5209, 0.5440, 0.5530, 0.5425], device='cuda:0')"
      ]
     },
     "execution_count": 18,
     "metadata": {},
     "output_type": "execute_result"
    }
   ],
   "source": [
    "conf_out_guided['complex_plddt']"
   ]
  },
  {
   "cell_type": "code",
   "execution_count": 26,
   "id": "52d17aee-5074-427d-b6d8-60afb9530019",
   "metadata": {},
   "outputs": [
    {
     "data": {
      "text/plain": [
       "5"
      ]
     },
     "execution_count": 26,
     "metadata": {},
     "output_type": "execute_result"
    }
   ],
   "source": [
    "model.structure_module.num_sampling_steps"
   ]
  }
 ],
 "metadata": {
  "kernelspec": {
   "display_name": "Python 3 (ipykernel)",
   "language": "python",
   "name": "python3"
  },
  "language_info": {
   "codemirror_mode": {
    "name": "ipython",
    "version": 3
   },
   "file_extension": ".py",
   "mimetype": "text/x-python",
   "name": "python",
   "nbconvert_exporter": "python",
   "pygments_lexer": "ipython3",
   "version": "3.11.12"
  }
 },
 "nbformat": 4,
 "nbformat_minor": 5
}
